{
 "cells": [
  {
   "cell_type": "markdown",
   "metadata": {},
   "source": [
    "# Pure Python vs. Numpy - Lab\n",
    "\n",
    "## Introduction \n",
    "\n",
    "Numpy, Scipy and Pandas libraries provide a significant increase in computational efficiency with complex mathematical operations as compared to Python's built in arithmatic functions.  In this lab we shall calculate and compare the processing speed required for calculating a dot product both using basic arithmatic operations in Python and Numpy's `.dot()` method. \n",
    "\n",
    "## Objectives\n",
    "You will be able to:\n",
    "* Compare the performance of high dimensional matrix operations in Numpy vs. pure Python"
   ]
  },
  {
   "cell_type": "markdown",
   "metadata": {},
   "source": [
    "## Problem\n",
    "> **Write a routine to calculate the dot product between two 200 x 200 dimensional matrices using:**\n",
    "\n",
    "> **a) Pure Python**\n",
    "\n",
    "> **b) Numpy's `.dot()`**\n",
    "\n",
    "\n",
    "### Create two 200 x 200 matrices in Python and fill them with random values using `np.random.rand()` "
   ]
  },
  {
   "cell_type": "code",
   "execution_count": 33,
   "metadata": {},
   "outputs": [],
   "source": [
    "# Compare 200x200 matrix-matrix multiplication speed\n",
    "import numpy as np\n",
    "\n",
    "# Set up the variables\n",
    "A = np.random.rand(200, 200)\n",
    "B = np.random.rand(200, 200)"
   ]
  },
  {
   "cell_type": "code",
   "execution_count": 28,
   "metadata": {},
   "outputs": [
    {
     "data": {
      "text/plain": [
       "array([[0.01096742, 0.59364488, 0.89629014, ..., 0.45404767, 0.09793747,\n",
       "        0.86058052],\n",
       "       [0.14187865, 0.50400168, 0.38714242, ..., 0.01925529, 0.71662003,\n",
       "        0.79995255],\n",
       "       [0.90863982, 0.65801286, 0.49970402, ..., 0.878076  , 0.68745747,\n",
       "        0.76286154],\n",
       "       ...,\n",
       "       [0.26176977, 0.2697954 , 0.30603342, ..., 0.21496426, 0.59497537,\n",
       "        0.38964363],\n",
       "       [0.21097813, 0.38584709, 0.57783978, ..., 0.61702948, 0.35248333,\n",
       "        0.96142892],\n",
       "       [0.32770769, 0.87831539, 0.07484636, ..., 0.34904833, 0.446842  ,\n",
       "        0.54472091]])"
      ]
     },
     "execution_count": 28,
     "metadata": {},
     "output_type": "execute_result"
    }
   ],
   "source": [
    "A\n",
    "B"
   ]
  },
  {
   "cell_type": "markdown",
   "metadata": {},
   "source": [
    "### Pure Python\n",
    "\n",
    "* Initialize an zeros filled numpy matrix with necessary rows and columns for storing result. \n",
    "* In Python Calculate the dot product using the formula \n",
    "![](formula.png)\n",
    "* Use Python's `timeit` library to calculate the processing time. \n",
    "* [Visit this link](https://www.pythoncentral.io/time-a-python-function/) for an indepth explanation on how to time a function or routine in python. \n",
    "\n",
    "**Hint**: Use nested for loop for accessing, calculating and storing each scalar value in the result matrix."
   ]
  },
  {
   "cell_type": "code",
   "execution_count": 35,
   "metadata": {},
   "outputs": [
    {
     "name": "stdout",
     "output_type": "stream",
     "text": [
      "[51.83924191 58.2240568  49.34708736 41.99187384 51.36583581 45.0195259\n",
      " 46.9298105  48.41216954 51.68267427 55.94198781 50.58007452 49.22442503\n",
      " 43.89773871 52.67506721 45.36575835 46.75139276 49.17687748 54.20297601\n",
      " 50.03782771 48.19633677 48.65880871 52.51302282 44.44667827 53.25907143\n",
      " 54.17442034 45.37672981 53.43259291 52.04890616 48.38979992 51.09949148\n",
      " 51.13392517 54.2132653  47.35094466 50.58802799 50.02034323 49.46445476\n",
      " 50.64682014 51.6373843  53.18226443 49.82252874 49.01939616 53.64364596\n",
      " 46.39251095 48.36432358 46.70784611 47.12745985 49.49798003 50.98150343\n",
      " 50.99310412 51.5801274  47.85554739 54.93324606 46.09296853 59.33738602\n",
      " 52.13256864 43.54720582 54.86768683 48.63991671 50.27120204 50.87721828\n",
      " 52.60476146 50.11761521 51.33076124 52.55081868 53.31217729 49.56916305\n",
      " 50.4415869  54.08355006 53.6247388  45.65100732 50.68812239 49.94186882\n",
      " 50.91874867 49.53902188 51.8082463  45.73376653 53.42914194 51.60539514\n",
      " 55.3348341  50.89165708 46.95130919 46.37160524 47.84820436 46.97796723\n",
      " 52.24200163 46.70452361 49.86039256 48.99370577 49.7939121  47.98174781\n",
      " 48.99750552 51.15534288 50.80850188 46.82394126 51.26808199 52.5607268\n",
      " 57.80134172 45.14146789 53.88915668 50.00163762 51.35456468 53.87083937\n",
      " 48.30779033 50.72477539 57.7189362  56.89086813 48.94411984 48.02270742\n",
      " 51.74515689 49.7659967  45.29975139 47.0270615  50.89789108 47.50497453\n",
      " 48.91023767 47.79546607 45.77538435 52.55648014 51.34227833 54.70549377\n",
      " 51.49153905 48.43415055 49.370551   48.00966152 53.62011314 47.84145601\n",
      " 48.87140243 53.46754421 55.78944665 57.94286971 50.30694472 49.80066639\n",
      " 47.60603123 46.33262047 48.3935299  44.00436351 51.07489947 54.74578404\n",
      " 53.35425738 51.44340015 51.80280182 50.4458952  45.78540559 50.01776364\n",
      " 48.64169961 54.48737444 49.80645255 54.40504396 50.7672227  47.66902295\n",
      " 52.85582501 45.09538586 48.60679567 56.19116371 46.80992171 52.03251797\n",
      " 50.02692381 48.45656884 53.02949756 48.23114232 51.13490376 53.81920403\n",
      " 49.27829625 48.74308624 45.49017282 52.47478879 51.01787704 50.42693739\n",
      " 46.81459611 49.19352582 48.1540987  54.66998789 51.46036021 49.69282336\n",
      " 48.87189123 48.73685032 50.57369199 49.924174   47.67677441 48.08277105\n",
      " 45.24641203 57.11417712 49.80073013 43.58616836 47.61086659 50.41167029\n",
      " 53.69836296 49.80897154 51.28138756 51.75467485 46.49112686 50.00495947\n",
      " 48.15543764 48.49699081 53.21485369 52.67157653 51.96458188 47.69804243\n",
      " 50.6220947  56.86927978]\n",
      "Pure Python Time: 0.0033326148986816406 sec.\n"
     ]
    }
   ],
   "source": [
    "import time\n",
    "from math import sqrt, acos, pi\n",
    "from decimal import Decimal, getcontext\n",
    "getcontext().prec = 30\n",
    "\n",
    "# Start the timer\n",
    "start = time.time()\n",
    "\n",
    "# Matrix multiplication in pure Python\n",
    "def mdot(A, B):\n",
    "        return sum([x*y for x, y in zip(A, B)])\n",
    "\n",
    "print(dot(A, B))\n",
    "time_spent = time.time() - start\n",
    "\n",
    "print('Pure Python Time:', time_spent, 'sec.')"
   ]
  },
  {
   "cell_type": "code",
   "execution_count": 41,
   "metadata": {},
   "outputs": [
    {
     "name": "stdout",
     "output_type": "stream",
     "text": [
      "Pure Python Time: 5.9559586169198155 sec.\n"
     ]
    }
   ],
   "source": [
    "start = timeit.default_timer()\n",
    "\n",
    "# Matrix multiplication in pure Python\n",
    "\n",
    "out2 = np.zeros((200, 200))\n",
    "\n",
    "for i in range(200):\n",
    "    for j in range(200):\n",
    "        for k in range(200):\n",
    "            out2[i,k] += A[i,j]*B[j,k]\n",
    "\n",
    "time_spent = timeit.default_timer() - start\n",
    "\n",
    "print('Pure Python Time:', time_spent, 'sec.')"
   ]
  },
  {
   "cell_type": "markdown",
   "metadata": {},
   "source": [
    "## Numpy \n",
    "Set the timer and calculate the time taken by `.dot()` function for multiplying A and B \n"
   ]
  },
  {
   "cell_type": "code",
   "execution_count": 42,
   "metadata": {},
   "outputs": [
    {
     "name": "stdout",
     "output_type": "stream",
     "text": [
      "[[50.62966256 55.32973424 51.24960734 ... 50.03138079 50.77869729\n",
      "  55.82859856]\n",
      " [45.03680531 54.23712426 47.25978228 ... 47.93721966 45.33181063\n",
      "  52.17164534]\n",
      " [47.93018075 54.67209105 50.60608323 ... 48.67143082 50.45386137\n",
      "  55.91699949]\n",
      " ...\n",
      " [46.30540172 52.99567901 48.27807424 ... 47.38759816 47.71520371\n",
      "  52.58101346]\n",
      " [50.43089618 57.83642005 49.52949133 ... 51.3201352  51.58449794\n",
      "  56.35191463]\n",
      " [50.0912131  57.78450515 51.52919913 ... 53.17271491 52.21100494\n",
      "  55.98613971]]\n",
      "Numpy Time: 0.061815500259399414 sec.\n"
     ]
    }
   ],
   "source": [
    "# start the timer\n",
    "start = time.time()\n",
    "\n",
    "# Matrix multiplication in numpy\n",
    "print(A.dot(B))\n",
    "\n",
    "time_spent = time.time() - start\n",
    "\n",
    "print('Numpy Time:', time_spent, 'sec.')"
   ]
  },
  {
   "cell_type": "markdown",
   "metadata": {},
   "source": [
    "### Your comments "
   ]
  },
  {
   "cell_type": "markdown",
   "metadata": {},
   "source": [
    "```\n",
    "```"
   ]
  },
  {
   "cell_type": "markdown",
   "metadata": {},
   "source": [
    "## Summary\n",
    "\n",
    "In this lab, we performed a quick comparison between calculating a dot product in numpy vs python built in function. We saw that Numpy is computationally much more efficient that Python code due to highly sophisticated implementation of Numpy source code. You are encouraged to always perform such tests to fully appreciate the use of an additional library in Python. "
   ]
  }
 ],
 "metadata": {
  "kernelspec": {
   "display_name": "Python 3",
   "language": "python",
   "name": "python3"
  },
  "language_info": {
   "codemirror_mode": {
    "name": "ipython",
    "version": 3
   },
   "file_extension": ".py",
   "mimetype": "text/x-python",
   "name": "python",
   "nbconvert_exporter": "python",
   "pygments_lexer": "ipython3",
   "version": "3.6.6"
  }
 },
 "nbformat": 4,
 "nbformat_minor": 2
}
