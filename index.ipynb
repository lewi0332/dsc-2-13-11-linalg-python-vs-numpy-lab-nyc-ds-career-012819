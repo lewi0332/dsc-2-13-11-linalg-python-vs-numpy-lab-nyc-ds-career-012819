{
 "cells": [
  {
   "cell_type": "markdown",
   "metadata": {},
   "source": [
    "# Pure Python vs. Numpy - Lab\n",
    "\n",
    "## Introduction \n",
    "\n",
    "Numpy, Scipy and Pandas libraries provide a significant increase in computational efficiency with complex mathematical operations as compared to Python's built in arithmatic functions.  In this lab we shall calculate and compare the processing speed required for calculating a dot product both using basic arithmatic operations in Python and Numpy's `.dot()` method. \n",
    "\n",
    "## Objectives\n",
    "You will be able to:\n",
    "* Compare the performance of high dimensional matrix operations in Numpy vs. pure Python"
   ]
  },
  {
   "cell_type": "markdown",
   "metadata": {},
   "source": [
    "## Problem\n",
    "> **Write a routine to calculate the dot product between two 200 x 200 dimensional matrices using:**\n",
    "\n",
    "> **a) Pure Python**\n",
    "\n",
    "> **b) Numpy's `.dot()`**\n",
    "\n",
    "\n",
    "### Create two 200 x 200 matrices in Python and fill them with random values using `np.random.rand()` "
   ]
  },
  {
   "cell_type": "code",
   "execution_count": 2,
   "metadata": {},
   "outputs": [],
   "source": [
    "# Compare 200x200 matrix-matrix multiplication speed\n",
    "import numpy as np\n",
    "\n",
    "# Set up the variables\n",
    "A = np.random.rand(200, 200)\n",
    "B = np.random.rand(200, 200)"
   ]
  },
  {
   "cell_type": "code",
   "execution_count": 3,
   "metadata": {},
   "outputs": [
    {
     "data": {
      "text/plain": [
       "(200, 200)"
      ]
     },
     "execution_count": 3,
     "metadata": {},
     "output_type": "execute_result"
    }
   ],
   "source": [
    "A.shape\n",
    "B.shape"
   ]
  },
  {
   "cell_type": "markdown",
   "metadata": {},
   "source": [
    "### Pure Python\n",
    "\n",
    "* Initialize an zeros filled numpy matrix with necessary rows and columns for storing result. \n",
    "* In Python Calculate the dot product using the formula \n",
    "![](formula.png)\n",
    "* Use Python's `timeit` library to calculate the processing time. \n",
    "* [Visit this link](https://www.pythoncentral.io/time-a-python-function/) for an indepth explanation on how to time a function or routine in python. \n",
    "\n",
    "**Hint**: Use nested for loop for accessing, calculating and storing each scalar value in the result matrix."
   ]
  },
  {
   "cell_type": "code",
   "execution_count": 23,
   "metadata": {},
   "outputs": [
    {
     "name": "stdout",
     "output_type": "stream",
     "text": [
      "[48.54196808 48.76555736 48.05955793 47.8782623  52.7546862  54.38752961\n",
      " 49.33723852 51.34581859 47.4027238  43.4240354  50.7198738  48.85184433\n",
      " 51.3800167  50.62364019 48.21049354 54.83160449 52.91524626 52.37927231\n",
      " 49.83630581 46.94187342 47.2688794  51.03044799 53.84585748 51.75146921\n",
      " 54.21873047 55.64665308 49.79843402 51.65751518 50.27168178 52.37024549\n",
      " 45.37139697 49.48123172 49.18886689 49.83623775 48.46206929 52.56693278\n",
      " 55.69440357 41.7141112  51.25896193 53.51780024 50.81650684 50.89977843\n",
      " 50.21269702 53.57117844 53.10270697 44.99748783 50.3705654  52.65425022\n",
      " 46.54247207 50.38450412 50.999173   54.09547197 46.14947042 50.97063017\n",
      " 52.49253727 50.43398734 54.05838772 49.42499172 51.43376565 47.19911635\n",
      " 51.32569472 54.29831318 45.04332539 43.26103187 44.99432065 51.80483292\n",
      " 48.47353325 49.6880679  49.87484875 51.0706623  45.29977877 53.97178215\n",
      " 50.67101561 50.68759293 45.3661625  49.3096761  48.2374006  48.13811739\n",
      " 57.64783647 46.17855668 55.64216583 52.67648809 54.31234627 50.6958638\n",
      " 53.23176863 43.89898696 50.16437357 47.62367384 48.17429546 43.26834505\n",
      " 52.86982945 50.97390719 43.47634197 50.81155077 50.87326762 51.99659244\n",
      " 45.80236514 55.37874232 48.78500585 48.81939044 48.00393442 49.97760779\n",
      " 48.16674427 51.50607345 46.39708624 46.88091535 48.5514363  50.993625\n",
      " 56.39508141 44.40994183 54.98812183 50.79057576 53.10212803 46.78262497\n",
      " 47.86072543 51.89241303 45.19895569 47.73028939 51.88985212 50.89207807\n",
      " 52.83859665 49.39300357 50.75489057 53.35066573 51.62129984 49.59608465\n",
      " 49.53554686 46.34260409 51.04240024 48.62193335 47.12240983 45.13498068\n",
      " 53.13471075 44.58722947 53.19427584 44.45510562 58.49821826 49.20007933\n",
      " 53.09108968 50.90800892 48.44600456 50.18864985 47.57609121 51.42042925\n",
      " 50.71218247 53.9785923  45.75001405 47.74220865 45.6630988  50.65012822\n",
      " 52.95272964 44.77281487 46.81934726 48.74904729 51.66323803 50.34150768\n",
      " 52.20556661 48.77175527 54.27807926 47.67366467 47.85913709 52.25573262\n",
      " 53.56982049 48.28948534 47.00358577 53.8883936  46.77932937 49.92353088\n",
      " 44.17464278 50.20743416 55.1984481  49.86678794 52.07935404 49.3242154\n",
      " 52.05794007 55.43937423 46.57858575 45.92013972 51.50724    48.0078895\n",
      " 51.95696955 50.35342354 49.10430053 45.75638672 46.45893619 50.2737225\n",
      " 50.20296708 51.89761039 55.53170262 50.42418425 48.26300761 44.38882695\n",
      " 48.77021703 50.43149376 43.87445188 46.59767325 53.77576292 43.7287365\n",
      " 47.85290213 46.46241125]\n",
      "Pure Python Time: 0.0028023719787597656 sec.\n"
     ]
    }
   ],
   "source": [
    "import time\n",
    "\n",
    "# Start the timer\n",
    "start = time.time()\n",
    "\n",
    "# Matrix multiplication in pure Python\n",
    "\n",
    "def dot(A, B):\n",
    "        return sum([x*y for x, y in zip(A, B)])\n",
    "\n",
    "print(dot(A, B))\n",
    "time_spent = time.time() - start\n",
    "\n",
    "print('Pure Python Time:', time_spent, 'sec.')"
   ]
  },
  {
   "cell_type": "markdown",
   "metadata": {},
   "source": [
    "## Numpy \n",
    "Set the timer and calculate the time taken by `.dot()` function for multiplying A and B \n"
   ]
  },
  {
   "cell_type": "code",
   "execution_count": 24,
   "metadata": {},
   "outputs": [
    {
     "name": "stdout",
     "output_type": "stream",
     "text": [
      "[[42.35575224 47.71171545 41.56763993 ... 43.88662239 47.45782161\n",
      "  46.16050693]\n",
      " [45.17315752 48.87589411 46.1648943  ... 45.1638664  48.19796022\n",
      "  47.72777998]\n",
      " [43.39688529 47.42597772 44.84687332 ... 45.93589603 45.33997389\n",
      "  46.7302716 ]\n",
      " ...\n",
      " [43.61413262 48.15132388 47.27678105 ... 47.54587617 48.68372443\n",
      "  49.61413   ]\n",
      " [44.56730118 50.73732238 46.09805762 ... 45.69537511 47.40494374\n",
      "  45.96522511]\n",
      " [48.91288831 51.5516301  47.28259811 ... 50.04639728 52.05426561\n",
      "  51.20102085]]\n",
      "Numpy Time: 0.060129642486572266 sec.\n"
     ]
    }
   ],
   "source": [
    "# start the timer\n",
    "start = time.time()\n",
    "\n",
    "# Matrix multiplication in numpy\n",
    "print(A.dot(B))\n",
    "\n",
    "time_spent = time.time() - start\n",
    "print('Numpy Time:', time_spent, 'sec.')"
   ]
  },
  {
   "cell_type": "markdown",
   "metadata": {},
   "source": [
    "### Your comments "
   ]
  },
  {
   "cell_type": "markdown",
   "metadata": {},
   "source": [
    "```\n",
    "```"
   ]
  },
  {
   "cell_type": "markdown",
   "metadata": {},
   "source": [
    "## Summary\n",
    "\n",
    "In this lab, we performed a quick comparison between calculating a dot product in numpy vs python built in function. We saw that Numpy is computationally much more efficient that Python code due to highly sophisticated implementation of Numpy source code. You are encouraged to always perform such tests to fully appreciate the use of an additional library in Python. "
   ]
  }
 ],
 "metadata": {
  "kernelspec": {
   "display_name": "Python 3",
   "language": "python",
   "name": "python3"
  },
  "language_info": {
   "codemirror_mode": {
    "name": "ipython",
    "version": 3
   },
   "file_extension": ".py",
   "mimetype": "text/x-python",
   "name": "python",
   "nbconvert_exporter": "python",
   "pygments_lexer": "ipython3",
   "version": "3.6.6"
  }
 },
 "nbformat": 4,
 "nbformat_minor": 2
}
