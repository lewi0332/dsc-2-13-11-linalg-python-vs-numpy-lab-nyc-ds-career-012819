{
 "cells": [
  {
   "cell_type": "markdown",
   "metadata": {},
   "source": [
    "# Pure Python vs. Numpy - Lab\n",
    "\n",
    "## Introduction \n",
    "\n",
    "Numpy, Scipy and Pandas libraries provide a significant increase in computational efficiency with complex mathematical operations as compared to Python's built in arithmatic functions.  In this lab we shall calculate and compare the processing speed required for calculating a dot product both using basic arithmatic operations in Python and Numpy's `.dot()` method. \n",
    "\n",
    "## Objectives\n",
    "You will be able to:\n",
    "* Compare the performance of high dimensional matrix operations in Numpy vs. pure Python"
   ]
  },
  {
   "cell_type": "markdown",
   "metadata": {},
   "source": [
    "## Problem\n",
    "> **Write a routine to calculate the dot product between two 200 x 200 dimensional matrices using:**\n",
    "\n",
    "> **a) Pure Python**\n",
    "\n",
    "> **b) Numpy's `.dot()`**\n",
    "\n",
    "\n",
    "### Create two 200 x 200 matrices in Python and fill them with random values using `np.random.rand()` "
   ]
  },
  {
   "cell_type": "code",
   "execution_count": 2,
   "metadata": {},
   "outputs": [],
   "source": [
    "# Compare 200x200 matrix-matrix multiplication speed\n",
    "import numpy as np\n",
    "\n",
    "# Set up the variables\n",
    "A = np.random.rand(200, 200)\n",
    "B = np.random.rand(200, 200)"
   ]
  },
  {
   "cell_type": "code",
   "execution_count": 28,
   "metadata": {},
   "outputs": [
    {
     "data": {
      "text/plain": [
       "array([[0.01096742, 0.59364488, 0.89629014, ..., 0.45404767, 0.09793747,\n",
       "        0.86058052],\n",
       "       [0.14187865, 0.50400168, 0.38714242, ..., 0.01925529, 0.71662003,\n",
       "        0.79995255],\n",
       "       [0.90863982, 0.65801286, 0.49970402, ..., 0.878076  , 0.68745747,\n",
       "        0.76286154],\n",
       "       ...,\n",
       "       [0.26176977, 0.2697954 , 0.30603342, ..., 0.21496426, 0.59497537,\n",
       "        0.38964363],\n",
       "       [0.21097813, 0.38584709, 0.57783978, ..., 0.61702948, 0.35248333,\n",
       "        0.96142892],\n",
       "       [0.32770769, 0.87831539, 0.07484636, ..., 0.34904833, 0.446842  ,\n",
       "        0.54472091]])"
      ]
     },
     "execution_count": 28,
     "metadata": {},
     "output_type": "execute_result"
    }
   ],
   "source": [
    "A\n",
    "B"
   ]
  },
  {
   "cell_type": "markdown",
   "metadata": {},
   "source": [
    "### Pure Python\n",
    "\n",
    "* Initialize an zeros filled numpy matrix with necessary rows and columns for storing result. \n",
    "* In Python Calculate the dot product using the formula \n",
    "![](formula.png)\n",
    "* Use Python's `timeit` library to calculate the processing time. \n",
    "* [Visit this link](https://www.pythoncentral.io/time-a-python-function/) for an indepth explanation on how to time a function or routine in python. \n",
    "\n",
    "**Hint**: Use nested for loop for accessing, calculating and storing each scalar value in the result matrix."
   ]
  },
  {
   "cell_type": "code",
   "execution_count": 25,
   "metadata": {},
   "outputs": [
    {
     "name": "stdout",
     "output_type": "stream",
     "text": [
      "(200,)\n",
      "Pure Python Time: 0.001299142837524414 sec.\n"
     ]
    }
   ],
   "source": [
    "import time\n",
    "from math import sqrt, acos, pi\n",
    "from decimal import Decimal, getcontext\n",
    "getcontext().prec = 30\n",
    "\n",
    "# Start the timer\n",
    "start = time.time()\n",
    "\n",
    "# Matrix multiplication in pure Python\n",
    "class Vector(object):\n",
    "\n",
    "    CANNOT_NORMALIZE_ZERO_VECTOR_MSG = 'Cannot normalize the zero vector'\n",
    "    NO_UNIQUE_PARALLEL_COMPONENT_MSG = 'Parallel Problem'\n",
    "    NO_UNIQUE_ORTHOGONAL_COMPONENT_MSG = 'Does this work?'\n",
    "    ONLY_DEFINED_IN_TWO_THREE_DIMS_MSG = 'something wrong'\n",
    "\n",
    "    def __init__(self, coordinates):\n",
    "        try:\n",
    "            \n",
    "            if not coordinates:\n",
    "                raise ValueError\n",
    "            self.coordinates = tuple([Decimal(x) for x in coordinates])\n",
    "            self.dimension = len(self.coordinates)\n",
    "\n",
    "        except ValueError:\n",
    "            raise ValueError('The coordinates must be nonempty')\n",
    "\n",
    "        except TypeError:\n",
    "            raise TypeError('The coordinates must be an iterable')\n",
    "\n",
    "def dot(A, B):\n",
    "        return sum([x*y for x, y in zip(A.coordinates, B.coordinates)])\n",
    "\n",
    "print(dot(A, B))\n",
    "time_spent = time.time() - start\n",
    "\n",
    "print('Pure Python Time:', time_spent, 'sec.')"
   ]
  },
  {
   "cell_type": "markdown",
   "metadata": {},
   "source": [
    "## Numpy \n",
    "Set the timer and calculate the time taken by `.dot()` function for multiplying A and B \n"
   ]
  },
  {
   "cell_type": "code",
   "execution_count": 26,
   "metadata": {},
   "outputs": [
    {
     "name": "stdout",
     "output_type": "stream",
     "text": [
      "(200, 200)\n",
      "Numpy Time: 0.0753469467163086 sec.\n"
     ]
    }
   ],
   "source": [
    "# start the timer\n",
    "start = time.time()\n",
    "\n",
    "# Matrix multiplication in numpy\n",
    "print(A.dot(B).shape)\n",
    "\n",
    "time_spent = time.time() - start\n",
    "print('Numpy Time:', time_spent, 'sec.')"
   ]
  },
  {
   "cell_type": "markdown",
   "metadata": {},
   "source": [
    "### Your comments "
   ]
  },
  {
   "cell_type": "markdown",
   "metadata": {},
   "source": [
    "```\n",
    "```"
   ]
  },
  {
   "cell_type": "markdown",
   "metadata": {},
   "source": [
    "## Summary\n",
    "\n",
    "In this lab, we performed a quick comparison between calculating a dot product in numpy vs python built in function. We saw that Numpy is computationally much more efficient that Python code due to highly sophisticated implementation of Numpy source code. You are encouraged to always perform such tests to fully appreciate the use of an additional library in Python. "
   ]
  }
 ],
 "metadata": {
  "kernelspec": {
   "display_name": "Python 3",
   "language": "python",
   "name": "python3"
  },
  "language_info": {
   "codemirror_mode": {
    "name": "ipython",
    "version": 3
   },
   "file_extension": ".py",
   "mimetype": "text/x-python",
   "name": "python",
   "nbconvert_exporter": "python",
   "pygments_lexer": "ipython3",
   "version": "3.6.6"
  }
 },
 "nbformat": 4,
 "nbformat_minor": 2
}
